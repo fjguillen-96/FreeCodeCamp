{
 "cells": [
  {
   "cell_type": "markdown",
   "metadata": {},
   "source": [
    "# Dictionary"
   ]
  },
  {
   "cell_type": "markdown",
   "metadata": {},
   "source": [
    "- Dictionaries ara like bags no order\n",
    "- So we index the thins we put in the dictionary with a lookup tag\n",
    "- These dont have order because when you modify a value it will go to last position in the dictionary, it is not fixed "
   ]
  },
  {
   "cell_type": "code",
   "execution_count": 1,
   "metadata": {},
   "outputs": [
    {
     "name": "stdout",
     "output_type": "stream",
     "text": [
      "{'money': 12, 'candy': 3, 'tissues': 75}\n"
     ]
    }
   ],
   "source": [
    "purse = dict()\n",
    "purse['money'] = 12\n",
    "purse['candy'] = 3\n",
    "purse['tissues'] =75\n",
    "print(purse)"
   ]
  },
  {
   "cell_type": "markdown",
   "metadata": {},
   "source": [
    "- Is is an error to reference a key which is not in the dict. Use 'in' to check it. ('hola' in dict_name)\n",
    "- [USEFUL] The method get(), let us obtain a specific key or, in case not exist, return a value (get(key,value))"
   ]
  },
  {
   "cell_type": "markdown",
   "metadata": {},
   "source": [
    "- Definite Loops and Dictionaries, for() loop through all the entries in a dictionary. To get the value put the key into the dictionary.\n",
    "- Return keys with dict.keys()\n",
    "- Return values with dict.values()\n",
    "- Return a list of tuples with dict.items()\n",
    "- Two iteration variables with .items(). Loop through keys and values at the same time."
   ]
  }
 ],
 "metadata": {
  "kernelspec": {
   "display_name": "Python 3.9.12 ('base')",
   "language": "python",
   "name": "python3"
  },
  "language_info": {
   "codemirror_mode": {
    "name": "ipython",
    "version": 3
   },
   "file_extension": ".py",
   "mimetype": "text/x-python",
   "name": "python",
   "nbconvert_exporter": "python",
   "pygments_lexer": "ipython3",
   "version": "3.9.12"
  },
  "orig_nbformat": 4,
  "vscode": {
   "interpreter": {
    "hash": "6f7063308d1852b8134eaab4d9a1054924250b5b6510f36e930f875834f0aa41"
   }
  }
 },
 "nbformat": 4,
 "nbformat_minor": 2
}

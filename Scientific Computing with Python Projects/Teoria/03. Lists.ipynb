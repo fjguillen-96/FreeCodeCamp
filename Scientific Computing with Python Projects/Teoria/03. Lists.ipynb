{
 "cells": [
  {
   "cell_type": "markdown",
   "metadata": {},
   "source": [
    "# Lists"
   ]
  },
  {
   "cell_type": "markdown",
   "metadata": {},
   "source": [
    "- A list element can be any Pyhon object (integer, string, list) and these can be combinate.\n",
    "- A list can be empty.\n",
    "- Strings are IMMUTABLE, we cannot change the contents of a string (we must create a new string).\n",
    "- Lists are MUTABLE, we can change an element of a list.\n",
    "- range() returns a list of numbers from zero to one less than the parameter.\n",
    "- create a empty list with list()\n",
    "- list can be sorted with sort()\n",
    "- Built-in functions that work with lists: len, max, min, sum...\n",
    "- Concatenating lista using \"+\"\n",
    "- Slice throught the list with [i:j]\n",
    "- Check if element is in a list with \"in\" or \"not in\""
   ]
  },
  {
   "cell_type": "markdown",
   "metadata": {},
   "source": [
    "# String and Lists"
   ]
  },
  {
   "cell_type": "markdown",
   "metadata": {},
   "source": [
    "- Use split() in string to divide it into several elements throught the whitespaces\n",
    "- split() see a multiple whitespace like one whitespace.\n",
    "- If the separator in the string is \";\" you can specify that this is the delimiter with split(';')\n",
    "- The split doesnt include the delimeter."
   ]
  }
 ],
 "metadata": {
  "kernelspec": {
   "display_name": "Python 3.9.12 ('base')",
   "language": "python",
   "name": "python3"
  },
  "language_info": {
   "name": "python",
   "version": "3.9.12"
  },
  "orig_nbformat": 4,
  "vscode": {
   "interpreter": {
    "hash": "6f7063308d1852b8134eaab4d9a1054924250b5b6510f36e930f875834f0aa41"
   }
  }
 },
 "nbformat": 4,
 "nbformat_minor": 2
}

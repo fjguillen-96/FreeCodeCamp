{
 "cells": [
  {
   "cell_type": "markdown",
   "metadata": {},
   "source": [
    "# Regular Expression"
   ]
  },
  {
   "cell_type": "code",
   "execution_count": 3,
   "metadata": {},
   "outputs": [],
   "source": [
    "import re"
   ]
  },
  {
   "cell_type": "markdown",
   "metadata": {},
   "source": [
    "- re.search(pattern,string) returns a True/False depending on whether the string matches the regular expression.\n",
    "- re.findall(pattern,string) extract the matched string. (return a list if there are several matches)\n",
    "- re.find(pattern,string) return the index of the first match"
   ]
  },
  {
   "cell_type": "markdown",
   "metadata": {},
   "source": [
    "- '^x' is start with\n",
    "- '?x' is end with\n",
    "- '.' is any character\n",
    "- 'x*' is any number of times\n",
    "- 'x+' is one or more times\n",
    "- '\\s' is a whitespace character\n",
    "- Uppercases are for negation of lowercases. ('\\S' is a non-whitespace character)\n",
    "- '[x-y]' is a interval (e.g. a-z,A-Z or 0-9)\n",
    "- '[xyz]' is a specific character (e.g. a,b or c)\n",
    "- '(pat1 pat2 par3)' is a set of conditions, first look for the pat1... It specify a substring to extract\n",
    "- '[^x]' is a negation of 'x', every character nor 'x'"
   ]
  }
 ],
 "metadata": {
  "kernelspec": {
   "display_name": "Python 3.9.12 ('base')",
   "language": "python",
   "name": "python3"
  },
  "language_info": {
   "codemirror_mode": {
    "name": "ipython",
    "version": 3
   },
   "file_extension": ".py",
   "mimetype": "text/x-python",
   "name": "python",
   "nbconvert_exporter": "python",
   "pygments_lexer": "ipython3",
   "version": "3.9.12 (main, Apr  4 2022, 05:22:27) [MSC v.1916 64 bit (AMD64)]"
  },
  "orig_nbformat": 4,
  "vscode": {
   "interpreter": {
    "hash": "6f7063308d1852b8134eaab4d9a1054924250b5b6510f36e930f875834f0aa41"
   }
  }
 },
 "nbformat": 4,
 "nbformat_minor": 2
}

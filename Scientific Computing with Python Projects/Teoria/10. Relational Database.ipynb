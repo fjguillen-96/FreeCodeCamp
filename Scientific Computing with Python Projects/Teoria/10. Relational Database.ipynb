{
 "cells": [
  {
   "attachments": {},
   "cell_type": "markdown",
   "metadata": {},
   "source": [
    "# Relational Database"
   ]
  },
  {
   "attachments": {},
   "cell_type": "markdown",
   "metadata": {},
   "source": [
    "Realtional databases model data by storing rows and columns in tables. The power of the relational databases lies in its ability to effciently retrieve data form those tables and in particular whre there are multiple tables and the relationships between those tables involved in the query"
   ]
  },
  {
   "attachments": {},
   "cell_type": "markdown",
   "metadata": {},
   "source": [
    "- Database - contains many tables\n",
    "- Relation (or table) - contains tuples and attributes\n",
    "- Tuple (or row) - a set of fields that generally represents an object like a person or a music track\n",
    "- Attribute (also column or field) - one of possibly many elements of data corresponding to the object represented by the row"
   ]
  },
  {
   "attachments": {},
   "cell_type": "markdown",
   "metadata": {},
   "source": [
    "SQL, Structured Query Language, is the language we use to issue commends to the database (create a table, retrieve data, insert data, delete data and so on)"
   ]
  },
  {
   "cell_type": "code",
   "execution_count": 4,
   "metadata": {},
   "outputs": [],
   "source": [
    "import sqlite3"
   ]
  },
  {
   "cell_type": "code",
   "execution_count": 5,
   "metadata": {},
   "outputs": [
    {
     "data": {
      "text/plain": [
       "<sqlite3.Connection at 0x27617c20d50>"
      ]
     },
     "execution_count": 5,
     "metadata": {},
     "output_type": "execute_result"
    }
   ],
   "source": [
    "con = sqlite3.connect('py4efun.db')\n",
    "cur = con.cursor()\n",
    "cur.execute()"
   ]
  },
  {
   "cell_type": "code",
   "execution_count": null,
   "metadata": {},
   "outputs": [],
   "source": [
    "# Study pandas, sqlite3 and MySQL"
   ]
  }
 ],
 "metadata": {
  "kernelspec": {
   "display_name": "base",
   "language": "python",
   "name": "python3"
  },
  "language_info": {
   "codemirror_mode": {
    "name": "ipython",
    "version": 3
   },
   "file_extension": ".py",
   "mimetype": "text/x-python",
   "name": "python",
   "nbconvert_exporter": "python",
   "pygments_lexer": "ipython3",
   "version": "3.9.12"
  },
  "orig_nbformat": 4,
  "vscode": {
   "interpreter": {
    "hash": "6f7063308d1852b8134eaab4d9a1054924250b5b6510f36e930f875834f0aa41"
   }
  }
 },
 "nbformat": 4,
 "nbformat_minor": 2
}

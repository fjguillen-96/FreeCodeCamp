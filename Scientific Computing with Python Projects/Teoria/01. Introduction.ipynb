{
 "cells": [
  {
   "cell_type": "markdown",
   "metadata": {},
   "source": [
    "# Variables, Expressions and Statements"
   ]
  },
  {
   "cell_type": "markdown",
   "metadata": {},
   "source": [
    "## Elements of Python"
   ]
  },
  {
   "cell_type": "markdown",
   "metadata": {},
   "source": [
    "- Variable:\n",
    "    * Toman un valor concreto y crean una pieza de memoria solo para ellos. Por lo que no hay punteros.\n",
    "    * Case Sensitive:\n",
    "        - Deben empezar por una letra o barrabaja\n",
    "        - Debe contener números, letras o barrabajas\n",
    "        - Es sensible a letras mayúsculas y minúsculas\n",
    "\n",
    "- Operator: +,-,*,/,%,**\n",
    "    * Orden de preferencia: Paréntesis, Potencia, Multiplicación, Adición y de Izquierda a Derecha\n",
    "    * La división de dos número enteros da lugar a número de coma flotante, aunque el resultado sea un número entero\n",
    "\n",
    "- Constant\n",
    "- Reserved Word:\n",
    "    False, None, True, and, as, assert, break, class, continue, def del, elif, else, except, finally\n",
    "    for, from, global, if, import, in, is, lambda, nonlocal, not, or, pass, raise, return, try,\n",
    "    while, with, yield"
   ]
  },
  {
   "cell_type": "code",
   "execution_count": 2,
   "metadata": {},
   "outputs": [],
   "source": [
    "# Assignment\n",
    "x = 12"
   ]
  },
  {
   "cell_type": "code",
   "execution_count": 3,
   "metadata": {},
   "outputs": [
    {
     "data": {
      "text/plain": [
       "int"
      ]
     },
     "execution_count": 3,
     "metadata": {},
     "output_type": "execute_result"
    }
   ],
   "source": [
    "# Use type() to ask what type something is\n",
    "type(x)"
   ]
  },
  {
   "cell_type": "code",
   "execution_count": 14,
   "metadata": {},
   "outputs": [
    {
     "name": "stdout",
     "output_type": "stream",
     "text": [
      "Welcome Fran\n"
     ]
    }
   ],
   "source": [
    "# Use input()\n",
    "nam = input('Who are you? ')\n",
    "print('Welcome',nam)"
   ]
  },
  {
   "cell_type": "code",
   "execution_count": 15,
   "metadata": {},
   "outputs": [
    {
     "name": "stdout",
     "output_type": "stream",
     "text": [
      "Ok, you live in Calle Álcala, 4\n"
     ]
    }
   ],
   "source": [
    "# Use input() with numbers. It always take a string so a conversion will be necessary\n",
    "num = input('What is your portal number? ')\n",
    "num = int(num)\n",
    "# print() can deal with string and int. NO float\n",
    "print('Ok, you live in Calle Álcala,',num)"
   ]
  },
  {
   "cell_type": "markdown",
   "metadata": {},
   "source": [
    "# Conditional"
   ]
  },
  {
   "cell_type": "markdown",
   "metadata": {},
   "source": [
    "- Conditional: if, elif, else\n",
    "- Solo se ejecuta una condición\n",
    "- Existe un orden de preferencia para lo que está dentro o fuera de un paréntesis, y de arriba hacia abajo (la primera condición que cumpla será la ejecutada)\n",
    "- Operadores de comparación: ==, <=, <, >, >=, != (similar to not)\n",
    "- Existen operadores lógicos como 'and' y 'or'. Piensa en ellos como un producto y una suma, con propiedades conmutativa, asociativa, distributiva"
   ]
  },
  {
   "cell_type": "code",
   "execution_count": 19,
   "metadata": {},
   "outputs": [
    {
     "name": "stdout",
     "output_type": "stream",
     "text": [
      "It´s less than 4\n",
      "It´s equal or less than 4\n",
      "It´s not 4\n",
      "It´s not 4\n"
     ]
    }
   ],
   "source": [
    "x = 3\n",
    "if x == 4:\n",
    "    print('It´s equal to 4')\n",
    "if x > 4:\n",
    "    print('It´s greater than 4')\n",
    "if x >= 4:\n",
    "    print('It´s equal or greater than 4')\n",
    "if x < 4:\n",
    "    print('It´s less than 4')\n",
    "if x <= 4:\n",
    "    print('It´s equal or less than 4')\n",
    "if x != 4:\n",
    "    print('It´s not 4')\n",
    "if not x == 4:\n",
    "    print('It´s not 4')"
   ]
  },
  {
   "cell_type": "code",
   "execution_count": 1,
   "metadata": {},
   "outputs": [
    {
     "name": "stdout",
     "output_type": "stream",
     "text": [
      "Or x is 4 and y is 2, or z is 2, or both\n"
     ]
    }
   ],
   "source": [
    "x = 3\n",
    "y = 2\n",
    "z = 2\n",
    "if x == 4 and (y == 2 or z == 2):\n",
    "    print('Or x is 4, and, y or z or both are 2')\n",
    "if x == 4 and y == 2 or z == 2:\n",
    "    print('Or x is 4 and y is 2, or z is 2, or both')\n",
    "    "
   ]
  },
  {
   "cell_type": "markdown",
   "metadata": {},
   "source": [
    "#### Try / except"
   ]
  },
  {
   "cell_type": "code",
   "execution_count": 2,
   "metadata": {},
   "outputs": [
    {
     "name": "stdout",
     "output_type": "stream",
     "text": [
      "Bye\n"
     ]
    }
   ],
   "source": [
    "astr = 'Hello'\n",
    "try:\n",
    "    b = int(astr)\n",
    "except:\n",
    "    astr = 'Bye'\n",
    "print(astr)"
   ]
  },
  {
   "cell_type": "markdown",
   "metadata": {},
   "source": [
    "# Functions"
   ]
  },
  {
   "cell_type": "markdown",
   "metadata": {},
   "source": [
    "A function store and reuse piece of code.\n",
    "There are two kinds of functions:\n",
    "- Built-in: included in python. Now as \"new\" reserved words\n",
    "- Functions that we define. Functions with results (return or print) are fruitful functions.\n"
   ]
  },
  {
   "cell_type": "markdown",
   "metadata": {},
   "source": [
    "Don´t forget to put parenthesis to invoke.\n",
    "\n",
    "You won´t use parenthesis to call a parameter of a class, but a function always need a ( )"
   ]
  },
  {
   "cell_type": "code",
   "execution_count": 9,
   "metadata": {},
   "outputs": [
    {
     "name": "stdout",
     "output_type": "stream",
     "text": [
      "hello\n",
      "Bye\n",
      "I´m a lumberjack, and I´m okay\n"
     ]
    },
    {
     "data": {
      "text/plain": [
       "<function __main__.print_lyrics()>"
      ]
     },
     "execution_count": 9,
     "metadata": {},
     "output_type": "execute_result"
    }
   ],
   "source": [
    "print('hello')\n",
    "def print_lyrics():\n",
    "    print('I´m a lumberjack, and I´m okay')\n",
    "print('Bye')\n",
    "print_lyrics()\n",
    "print_lyrics"
   ]
  },
  {
   "cell_type": "markdown",
   "metadata": {},
   "source": [
    "# Iterations"
   ]
  },
  {
   "cell_type": "markdown",
   "metadata": {},
   "source": [
    "* Indefinite loops, while:\n",
    "    - while() iterate until the conditions is broken, this condition is revised after a iteration or continue.\n",
    "    - while True is a infinite loop that end with a break\n",
    "    - In this iteration you can reset the loop modifying the value that break the loop (view 1)\n",
    "* Definite loops, for:\n",
    "    - for() iterate through a list\n",
    "    - In this iteration you can modify in real time the lenght of the list that you are iterating (view 2)"
   ]
  },
  {
   "cell_type": "code",
   "execution_count": 6,
   "metadata": {},
   "outputs": [
    {
     "name": "stdout",
     "output_type": "stream",
     "text": [
      "0\n",
      "1\n",
      "2\n",
      "0\n",
      "1\n",
      "2\n",
      "3\n",
      "4\n"
     ]
    }
   ],
   "source": [
    "# View 1\n",
    "i = 0\n",
    "flag = 0\n",
    "while i < 5:   \n",
    "    if i == 3 and flag == 0:\n",
    "        i = 0\n",
    "        flag = 1\n",
    "    print(i)\n",
    "    i = i + 1"
   ]
  },
  {
   "cell_type": "code",
   "execution_count": 4,
   "metadata": {},
   "outputs": [
    {
     "name": "stdout",
     "output_type": "stream",
     "text": [
      "1\n",
      "[1, 2, 3]\n",
      "2\n",
      "3\n"
     ]
    }
   ],
   "source": [
    "# View 2\n",
    "# Here you pop the value 2, and the loop jump (because this value didnt exist) this value\n",
    "a = [1,2,3]\n",
    "for j,i in enumerate(a):\n",
    "    print(i)\n",
    "    if i==1:\n",
    "        a.pop(j+1)\n",
    "        print(a)"
   ]
  },
  {
   "cell_type": "markdown",
   "metadata": {},
   "source": [
    "- Take care with the bool conditional == or is, because the first one compare numbers (integer and float) and strings values, and the second one compare the object pointed\n",
    "- It is recommended use is and is not only with bool values (None, True and False), avoid use with numbers, strings, list, etc, because it is confusing. "
   ]
  },
  {
   "cell_type": "code",
   "execution_count": 12,
   "metadata": {},
   "outputs": [
    {
     "name": "stdout",
     "output_type": "stream",
     "text": [
      "True\n",
      "False\n",
      "True\n",
      "False\n"
     ]
    }
   ],
   "source": [
    "\n",
    "list1 = []\n",
    "list2 = []\n",
    "list3 = list1\n",
    " \n",
    "# case 1\n",
    "if (list1 == list2):\n",
    "    print(\"True\")\n",
    "else:\n",
    "    print(\"False\")\n",
    " \n",
    "# case 2\n",
    "if (list1 is list2):\n",
    "    print(\"True\")\n",
    "else:\n",
    "    print(\"False\")\n",
    " \n",
    "# case 3\n",
    "if (list1 is list3):\n",
    "    print(\"True\")\n",
    "else:   \n",
    "    print(\"False\")\n",
    "     \n",
    "# case 4\n",
    "list3 = list3 + list2\n",
    " \n",
    "if (list1 is list3):\n",
    "    print(\"True\")\n",
    "else:   \n",
    "    print(\"False\")"
   ]
  },
  {
   "cell_type": "markdown",
   "metadata": {},
   "source": [
    "- To search maximun or minimun value use None as starter value (with its corresponded conditional), because if you search maximun and start with value -1 (invented) and the set of values are [-10 -50 -3] then your value is the maximum but this is not in the list. This example is simple, and you can use -999999 as starter but that is ugly, better use None, it is clean and will never fail."
   ]
  },
  {
   "cell_type": "code",
   "execution_count": 14,
   "metadata": {},
   "outputs": [
    {
     "name": "stdout",
     "output_type": "stream",
     "text": [
      "3\n"
     ]
    }
   ],
   "source": [
    "smallest = None\n",
    "for value in [9,41,12,3,74,15]:\n",
    "    if smallest is None:\n",
    "        smallest = value\n",
    "    elif value < smallest:\n",
    "        smallest = value\n",
    "print(smallest)"
   ]
  },
  {
   "cell_type": "markdown",
   "metadata": {},
   "source": [
    "# Strings"
   ]
  },
  {
   "cell_type": "markdown",
   "metadata": {},
   "source": [
    "- We can get at any single character in a string using an index specified in square brackets. That start in zero.\n",
    "- The in keyword can aksi be used to check to see if one string is \"in\" another string. Return True or False."
   ]
  },
  {
   "cell_type": "markdown",
   "metadata": {},
   "source": [
    "### String Slicing"
   ]
  },
  {
   "cell_type": "markdown",
   "metadata": {},
   "source": [
    "- slicing string (str[0:4]), the second number is one beyond the end of the slice \"up to but not including\", if the second number is beyonf th e end of the string, it stops at the end."
   ]
  },
  {
   "cell_type": "markdown",
   "metadata": {},
   "source": [
    "### String Concatenation"
   ]
  },
  {
   "cell_type": "markdown",
   "metadata": {},
   "source": [
    "- Concatenation with + operator"
   ]
  },
  {
   "cell_type": "markdown",
   "metadata": {},
   "source": [
    "### String Comparison"
   ]
  },
  {
   "cell_type": "markdown",
   "metadata": {},
   "source": [
    "- See the letters, length of string, uppercase and lowercase, and get a value of the string. This value is comparable between another string."
   ]
  },
  {
   "cell_type": "code",
   "execution_count": 18,
   "metadata": {},
   "outputs": [
    {
     "data": {
      "text/plain": [
       "False"
      ]
     },
     "execution_count": 18,
     "metadata": {},
     "output_type": "execute_result"
    }
   ],
   "source": [
    "a = 'banana'\n",
    "b = 'bananas'\n",
    "a > b"
   ]
  },
  {
   "cell_type": "markdown",
   "metadata": {},
   "source": [
    "### String Library"
   ]
  },
  {
   "cell_type": "markdown",
   "metadata": {},
   "source": [
    "- These is a bukt-in functios that no modify the string, just new one.\n",
    "- str.lower(): make lowercase\n",
    "- str.find(), look for the first occurrence of the substring in the string and return the position where star the occurrence, if it is not found return -1.\n",
    "-str.replace(): modify all the occurrence not only the first one.\n",
    "- str.lstrip(), str.rstrip() and str.strip(): remove white space at left of string, at the right of string and both, beginning and endind whitespaces.\n",
    "- Prefixes: str.startswith('substr'), take care with the substring, it will be a complete word (end with whitespace) so in case that the string was \"Please have a nice day\", the substring must be \"Please\", not \"P\" or \"Ple\"."
   ]
  }
 ],
 "metadata": {
  "kernelspec": {
   "display_name": "Python 3.9.12 ('base')",
   "language": "python",
   "name": "python3"
  },
  "language_info": {
   "codemirror_mode": {
    "name": "ipython",
    "version": 3
   },
   "file_extension": ".py",
   "mimetype": "text/x-python",
   "name": "python",
   "nbconvert_exporter": "python",
   "pygments_lexer": "ipython3",
   "version": "3.9.12"
  },
  "orig_nbformat": 4,
  "vscode": {
   "interpreter": {
    "hash": "6f7063308d1852b8134eaab4d9a1054924250b5b6510f36e930f875834f0aa41"
   }
  }
 },
 "nbformat": 4,
 "nbformat_minor": 2
}

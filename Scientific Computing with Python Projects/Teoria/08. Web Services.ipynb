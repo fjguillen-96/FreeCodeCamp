{
 "cells": [
  {
   "attachments": {},
   "cell_type": "markdown",
   "metadata": {},
   "source": [
    "# Web Service"
   ]
  },
  {
   "attachments": {},
   "cell_type": "markdown",
   "metadata": {},
   "source": [
    "- With the HTTP Request/Responde, we need to come up with an agreed way to represent data going between applications and across networks, commonly used formats are XML and JSON"
   ]
  },
  {
   "attachments": {},
   "cell_type": "markdown",
   "metadata": {},
   "source": [
    "XML:\n",
    "<person> #tag of complex element\n",
    "    <name> #tag of simple element\n",
    "        Chuck #Text\n",
    "    </name>\n",
    "    <phone type='intl' #Atribute>\n",
    "        xxx-xxx-xxx\n",
    "    </phone>\n",
    "    <email hide='yes'/>#self close tag\n",
    "</person>\n",
    "\n",
    "JSON:\n",
    "{\n",
    "    'name':'Chuck'\n",
    "    'phone':'xxx-xxx-xxx'\n",
    "}"
   ]
  },
  {
   "attachments": {},
   "cell_type": "markdown",
   "metadata": {},
   "source": [
    "### XML"
   ]
  },
  {
   "attachments": {},
   "cell_type": "markdown",
   "metadata": {},
   "source": [
    "XSD XML Schema (W3C spec):\n",
    "- W3C Schema\n",
    "- XSD Structure (xs:element,xs:sequence,xs:complexType)\n",
    "- Create elements to use as tags (e.g. <xs:element name ='customer' type='xs:string'/> --- <customer>XXXX<customer/>)\n",
    "- ISO 8601 Date/Time Format: 2002-05-30T09:30:10Z"
   ]
  },
  {
   "cell_type": "code",
   "execution_count": 2,
   "metadata": {},
   "outputs": [
    {
     "name": "stdout",
     "output_type": "stream",
     "text": [
      "Name: Check\n",
      "Attr: yes\n"
     ]
    }
   ],
   "source": [
    "from xml.etree import ElementTree as ET\n",
    "data = '''<person>\n",
    "<name>Check</name>\n",
    "<phone type=\"intl\">\n",
    "    +1 734 303 4456\n",
    "</phone>\n",
    "<email hide=\"yes\"/>\n",
    "</person>'''\n",
    "\n",
    "tree = ET.fromstring(data)\n",
    "print('Name:',tree.find('name').text)\n",
    "print('Attr:',tree.find('email').get('hide'))"
   ]
  },
  {
   "cell_type": "code",
   "execution_count": 3,
   "metadata": {},
   "outputs": [
    {
     "name": "stdout",
     "output_type": "stream",
     "text": [
      "User count: 2\n",
      "Name: Chuck\n",
      "Id: 001\n",
      "Attribute: 2\n",
      "Name: Brent\n",
      "Id: 009\n",
      "Attribute: 7\n"
     ]
    }
   ],
   "source": [
    "input = '''<stuff>\n",
    "<users>\n",
    "<user x='2'>\n",
    "<id>001</id>\n",
    "<name>Chuck</name>\n",
    "</user>\n",
    "<user x='7'>\n",
    "<id>009</id>\n",
    "<name>Brent</name>\n",
    "</user>\n",
    "</users>\n",
    "</stuff>'''\n",
    "\n",
    "stuff = ET.fromstring(input)\n",
    "lst = stuff.findall('users/user')\n",
    "print('User count:', len(lst))\n",
    "for item in lst:\n",
    "    print('Name:',item.find('name').text)\n",
    "    print('Id:',item.find('id').text)\n",
    "    print('Attribute:',item.get('x'))"
   ]
  },
  {
   "attachments": {},
   "cell_type": "markdown",
   "metadata": {},
   "source": [
    "### JSON"
   ]
  },
  {
   "attachments": {},
   "cell_type": "markdown",
   "metadata": {},
   "source": [
    "- JavaScript Object Notation\n",
    "- Each element are dictionaries \n",
    "- Use (\") no (')"
   ]
  },
  {
   "cell_type": "code",
   "execution_count": 6,
   "metadata": {},
   "outputs": [
    {
     "name": "stdout",
     "output_type": "stream",
     "text": [
      "Name:  Chuck\n",
      "Hide:  yes\n"
     ]
    }
   ],
   "source": [
    "import json\n",
    "data = '''{\n",
    "    \"name\" : \"Chuck\",\n",
    "    \"phone\" : {\n",
    "        \"type\" : \"intl\",\n",
    "        \"number\" : \"+1 734 303 4456\"\n",
    "    },\n",
    "    \"email\" : {\n",
    "        \"hide\" : \"yes\"\n",
    "    }\n",
    "}'''\n",
    "info = json.loads(data)\n",
    "print('Name: ',info['name'])\n",
    "print('Hide: ',info['email']['hide'])"
   ]
  },
  {
   "cell_type": "code",
   "execution_count": 9,
   "metadata": {},
   "outputs": [
    {
     "name": "stdout",
     "output_type": "stream",
     "text": [
      "User count: 2\n",
      "Name:  Chuck\n",
      "Id:  001\n",
      "Attribute:  2\n",
      "Name:  Chuck\n",
      "Id:  009\n",
      "Attribute:  7\n"
     ]
    }
   ],
   "source": [
    "input = '''[\n",
    "    {   \"id\" : \"001\",\n",
    "        \"x\" : \"2\",\n",
    "        \"name\" : \"Chuck\"\n",
    "    },\n",
    "    {   \"id\" : \"009\",\n",
    "        \"x\" : \"7\",\n",
    "        \"name\" : \"Chuck\"\n",
    "    }\n",
    "]'''\n",
    "info = json.loads(input)\n",
    "print('User count:', len(info))\n",
    "for item in info:\n",
    "    print('Name: ', item['name'])\n",
    "    print('Id: ', item['id'])\n",
    "    print('Attribute: ', item['x'])"
   ]
  },
  {
   "attachments": {},
   "cell_type": "markdown",
   "metadata": {},
   "source": [
    "### Service Oriented Approach"
   ]
  },
  {
   "attachments": {},
   "cell_type": "markdown",
   "metadata": {},
   "source": [
    "- An application can use services from other providers through APIs\n",
    "- APIs send data in JSON or XML format\n",
    "- Usually, APIs need a key to access (for security), limit calls per day or are not free"
   ]
  },
  {
   "cell_type": "code",
   "execution_count": 13,
   "metadata": {},
   "outputs": [
    {
     "name": "stdout",
     "output_type": "stream",
     "text": [
      "Retrieving http://maps.googleapis.com/maps/api/geocode/json?address=Murcia\n",
      "Retrieved 237 characters\n",
      "==== Failure To Retrieve ====\n",
      "{\n",
      "   \"error_message\" : \"You must use an API key to authenticate each request to Google Maps Platform APIs. For additional information, please refer to http://g.co/dev/maps-no-account\",\n",
      "   \"results\" : [],\n",
      "   \"status\" : \"REQUEST_DENIED\"\n",
      "}\n",
      "\n"
     ]
    }
   ],
   "source": [
    "# OBSOLETO, sirve para ver como coge un url, y hace una llamada, todo con JSON\n",
    "# Example Google Maps API\n",
    "import urllib.request, urllib.parse, urllib.error\n",
    "import json\n",
    "\n",
    "del input # lo declaramos antes como variable\n",
    "serviceurl = 'http://maps.googleapis.com/maps/api/geocode/json?'\n",
    "\n",
    "while True:\n",
    "    address = input('Enter location: ')\n",
    "    if len(address) < 1: break\n",
    "\n",
    "    url = serviceurl + urllib.parse.urlencode({'address':address})\n",
    "    print('Retrieving', url)\n",
    "    uh = urllib.request.urlopen(url)\n",
    "    data = uh.read().decode()\n",
    "    print('Retrieved', len(data), 'characters')\n",
    "\n",
    "    try:\n",
    "        js = json.loads(data)\n",
    "    except:\n",
    "        js = None\n",
    "    if not js or 'status' not in js or js['status'] != 'OK':\n",
    "        print('==== Failure To Retrieve ====')\n",
    "        print(data)\n",
    "        continue\n",
    "    lat = js['results'][0]['geometry']['location']['lat']\n",
    "    lng = js['results'][0]['geometry']['location']['lng']\n",
    "    print('lat',lat, 'lng',lng)\n",
    "    location = js['results'][0]['formatted_address']\n",
    "    print(location)"
   ]
  },
  {
   "attachments": {},
   "cell_type": "markdown",
   "metadata": {},
   "source": [
    "- SOAP and REST are two styles of web services\n",
    "- Web services provide infrastructure for applications cooperating (an API) over a network\n",
    "- XML and JSON are serialization formats"
   ]
  }
 ],
 "metadata": {
  "kernelspec": {
   "display_name": "base",
   "language": "python",
   "name": "python3"
  },
  "language_info": {
   "codemirror_mode": {
    "name": "ipython",
    "version": 3
   },
   "file_extension": ".py",
   "mimetype": "text/x-python",
   "name": "python",
   "nbconvert_exporter": "python",
   "pygments_lexer": "ipython3",
   "version": "3.9.12"
  },
  "orig_nbformat": 4,
  "vscode": {
   "interpreter": {
    "hash": "6f7063308d1852b8134eaab4d9a1054924250b5b6510f36e930f875834f0aa41"
   }
  }
 },
 "nbformat": 4,
 "nbformat_minor": 2
}

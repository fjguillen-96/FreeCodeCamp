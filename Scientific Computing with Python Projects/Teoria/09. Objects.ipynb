{
 "cells": [
  {
   "attachments": {},
   "cell_type": "markdown",
   "metadata": {},
   "source": [
    "# Objects"
   ]
  },
  {
   "attachments": {},
   "cell_type": "markdown",
   "metadata": {},
   "source": [
    "- Object is a self-contained Code and Data\n",
    "- A key aspect is to break the problem into smaller understandable parts\n",
    "- That allow us to ignore un-needed detail."
   ]
  },
  {
   "attachments": {},
   "cell_type": "markdown",
   "metadata": {},
   "source": [
    "#### Definitions\n",
    "- Class: a template\n",
    "- Method or Message: a defines capability of a class. There constructor (init) and destructor(del)\n",
    "- Field or atttribute: a bit of dasta in a class\n",
    "- Onject or Instance: a particular instance of a class\n",
    "- ```init()``` recive inputs"
   ]
  },
  {
   "cell_type": "code",
   "execution_count": 38,
   "metadata": {},
   "outputs": [
    {
     "name": "stdout",
     "output_type": "stream",
     "text": [
      "I am constructed Sally\n",
      "So far 1\n",
      "So far 2\n",
      "So far 3\n",
      "I am destructed 3\n",
      "Now an is 42\n"
     ]
    }
   ],
   "source": [
    "class PartyAnimal:\n",
    "    x = 0\n",
    "    name = ''\n",
    "\n",
    "    def __init__(self,*args):\n",
    "        if args: self.name = args[0]\n",
    "        print('I am constructed',self.name)\n",
    "\n",
    "    def party(self):\n",
    "        self.x = self.x + 1\n",
    "        print('So far',self.x)\n",
    "\n",
    "    def __del__(self):\n",
    "        print('I am destructed', self.x)\n",
    "\n",
    "\n",
    "an = PartyAnimal('Sally')\n",
    "an.party()\n",
    "an.party()\n",
    "an.party()\n",
    "an = 42\n",
    "print('Now an is',an)"
   ]
  },
  {
   "attachments": {},
   "cell_type": "markdown",
   "metadata": {},
   "source": [
    "- The ```dir()``` command lists capabilities.\n",
    "- Ignore the ones with underscores"
   ]
  },
  {
   "cell_type": "code",
   "execution_count": 13,
   "metadata": {},
   "outputs": [
    {
     "name": "stdout",
     "output_type": "stream",
     "text": [
      "['append', 'clear', 'copy', 'count', 'extend', 'index', 'insert', 'pop', 'remove', 'reverse', 'sort']\n"
     ]
    }
   ],
   "source": [
    "import re\n",
    "r = re.compile('(^[^_].*)')\n",
    "x = list()\n",
    "y = list(filter(r.match,dir(x)))\n",
    "print(y)"
   ]
  },
  {
   "attachments": {},
   "cell_type": "markdown",
   "metadata": {},
   "source": [
    "## Inheritance"
   ]
  },
  {
   "attachments": {},
   "cell_type": "markdown",
   "metadata": {},
   "source": [
    "- Subclasses ara mor specialized versions of a class, which inherit attributes and behaviors from their parent classes, and can introduce their own"
   ]
  },
  {
   "cell_type": "code",
   "execution_count": 39,
   "metadata": {},
   "outputs": [
    {
     "name": "stdout",
     "output_type": "stream",
     "text": [
      "I am constructed Sally\n",
      "So far 1\n",
      "I am constructed Jim\n",
      "So far 1\n",
      "So far 2\n",
      "Jim points 7\n"
     ]
    }
   ],
   "source": [
    "class PartyAnimal:\n",
    "    x = 0\n",
    "    name = ''\n",
    "\n",
    "    def __init__(self,*args):\n",
    "        if args: self.name = args[0]\n",
    "        print('I am constructed',self.name)\n",
    "\n",
    "    def party(self):\n",
    "        self.x = self.x + 1\n",
    "        print('So far',self.x)\n",
    "\n",
    "    def __del__(self):\n",
    "        print('I am destructed', self.x)\n",
    "\n",
    "#Subclass of PartyAnimal\n",
    "class FootballFan(PartyAnimal):\n",
    "    points = 0\n",
    "    def touchdown(self):\n",
    "        self.points = self.points + 7\n",
    "        self.party()\n",
    "        print(self.name,'points',self.points)\n",
    "\n",
    "s = PartyAnimal('Sally')\n",
    "s.party()\n",
    "j = FootballFan('Jim')\n",
    "j.party()\n",
    "j.touchdown()"
   ]
  }
 ],
 "metadata": {
  "kernelspec": {
   "display_name": "base",
   "language": "python",
   "name": "python3"
  },
  "language_info": {
   "codemirror_mode": {
    "name": "ipython",
    "version": 3
   },
   "file_extension": ".py",
   "mimetype": "text/x-python",
   "name": "python",
   "nbconvert_exporter": "python",
   "pygments_lexer": "ipython3",
   "version": "3.9.12"
  },
  "orig_nbformat": 4,
  "vscode": {
   "interpreter": {
    "hash": "6f7063308d1852b8134eaab4d9a1054924250b5b6510f36e930f875834f0aa41"
   }
  }
 },
 "nbformat": 4,
 "nbformat_minor": 2
}
